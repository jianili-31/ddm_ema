{
 "cells": [
  {
   "cell_type": "code",
   "execution_count": 1,
   "id": "28c6d83f",
   "metadata": {},
   "outputs": [
    {
     "name": "stdout",
     "output_type": "stream",
     "text": [
      "The current HDDM version is:  1.0.1RC\n",
      "The current kabuki version is:  0.6.5RC4\n",
      "The current PyMC version is:  2.3.8\n",
      "The current ArviZ version is:  0.15.1\n"
     ]
    }
   ],
   "source": [
    "%matplotlib inline\n",
    "\n",
    "# scientific computing and plotting\n",
    "import numpy as np\n",
    "import pandas as pd\n",
    "import xarray as xr\n",
    "import matplotlib.pyplot as plt\n",
    "import seaborn as sns\n",
    "\n",
    "# HDDM related packages\n",
    "import pymc as pm\n",
    "import hddm\n",
    "import kabuki\n",
    "import arviz as az\n",
    "print(\"The current HDDM version is: \", hddm.__version__)\n",
    "print(\"The current kabuki version is: \", kabuki.__version__)\n",
    "print(\"The current PyMC version is: \", pm.__version__)\n",
    "print(\"The current ArviZ version is: \", az.__version__)\n",
    "from kabuki.analyze import check_geweke\n",
    "from kabuki.analyze import gelman_rubin\n",
    "\n",
    "# miscellaneous\n",
    "from IPython.display import clear_output"
   ]
  },
  {
   "cell_type": "markdown",
   "id": "6ed20310",
   "metadata": {},
   "source": [
    "# Load & Manipulate Data"
   ]
  },
  {
   "cell_type": "code",
   "execution_count": 7,
   "id": "6c25ca09",
   "metadata": {},
   "outputs": [],
   "source": [
    "# NOT RUN: data manipulation -- concatenate data across datasets, store into a new file\n",
    "\n",
    "# need to make sure the directory containing data is downloaded to local\n",
    "# otherwise will encounter the error \"resource deadlock avoided\"\n",
    "\n",
    "# data_UIC_CAR = hddm.load_csv(\"../all_cleaned/CAR_UIC_nback_cleaned.csv\")\n",
    "# data_USC_CAR = hddm.load_csv(\"../all_cleaned/CAR_USC_nback_cleaned.csv\")\n",
    "# data_UIC_PARC = hddm.load_csv(\"../all_cleaned/PARC_UIC_nback_cleaned.csv\")\n",
    "# data_USC_PARC = hddm.load_csv(\"../all_cleaned/PARC_USC_nback_cleaned.csv\")\n",
    "\n",
    "# data_UIC_CAR[\"school\"] = \"UIC\"\n",
    "# data_USC_CAR[\"school\"] = \"USC\"\n",
    "# data_UIC_PARC[\"school\"] = \"UIC\"\n",
    "# data_USC_PARC[\"school\"] = \"USC\"\n",
    "\n",
    "# data_CAR = pd.concat((data_UIC_CAR, data_USC_CAR), axis=0)\n",
    "# MDD = pd.read_csv(\"../MDD_all.csv\")\n",
    "# MDD = MDD.rename(columns={\"ID\": \"subject_id\", \"MDDnew\": \"group\"})\n",
    "# MDD.loc[MDD.group == 0, 'group'] = \"HC\"\n",
    "# MDD.loc[MDD.group == 1, 'group'] = \"rMDD\"\n",
    "# data_CAR = pd.merge(data_CAR, MDD, on = \"subject_id\")\n",
    "\n",
    "# data_PARC = pd.concat((data_UIC_PARC, data_USC_PARC), axis=0)\n",
    "# data_PARC[\"group\"] = \"SI\"\n",
    "# data = pd.concat((data_CAR, data_PARC), axis=0)\n",
    "\n",
    "# data.to_csv(\"../all_cleaned/nback_all.csv\", index=False)"
   ]
  },
  {
   "cell_type": "code",
   "execution_count": 9,
   "id": "0613b919",
   "metadata": {},
   "outputs": [],
   "source": [
    "# load data\n",
    "data = hddm.load_csv(\"../all_cleaned/nback_all.csv\")"
   ]
  },
  {
   "cell_type": "code",
   "execution_count": 8,
   "id": "bf1998c0",
   "metadata": {},
   "outputs": [],
   "source": [
    "# exclude rows according to the exclusion flags\n",
    "data_clean = data.loc[(data.exclude_trial == 0) & (data.exclude_part == 0), :].reset_index()"
   ]
  },
  {
   "cell_type": "code",
   "execution_count": 28,
   "id": "cfaec77e",
   "metadata": {},
   "outputs": [
    {
     "name": "stdout",
     "output_type": "stream",
     "text": [
      "Number of trials, before exclusion:  15630\n",
      "Number of trials, after exclusion:  15398\n",
      "Number of trials per person:  118\n",
      "Number of variables:  16\n",
      "Number of participants, before exclusion:  131\n",
      "Number of participants, after exclusion:  131\n"
     ]
    }
   ],
   "source": [
    "print(\"Number of trials, before exclusion: \", data.shape[0])\n",
    "print(\"Number of trials, after exclusion: \", data_clean.shape[0])\n",
    "print(\"Number of trials per person: \", data_clean.loc[data_clean.subject_id==data_clean.subject_id[0]].shape[0])\n",
    "print(\"Number of variables: \", data_clean.shape[1])\n",
    "print(\"Number of participants, before exclusion: \", data.subject_id.unique().shape[0])\n",
    "print(\"Number of participants, after exclusion: \", data_clean.subject_id.unique().shape[0])"
   ]
  },
  {
   "cell_type": "code",
   "execution_count": 29,
   "id": "f84eb12c",
   "metadata": {},
   "outputs": [],
   "source": [
    "# rename columns according to the HDDM model convention\n",
    "data_clean = data_clean.rename(columns={\"resp_rt\": \"rt\", \"resp_value\": \"response\",\n",
    "                                        \"trial_congruent_fac\": \"trial_type\",\n",
    "                                        \"subject_id\": \"subj_idx\"})"
   ]
  },
  {
   "cell_type": "code",
   "execution_count": 31,
   "id": "caa53aba",
   "metadata": {},
   "outputs": [],
   "source": [
    "data_clean = data_clean.set_index('index')"
   ]
  },
  {
   "cell_type": "code",
   "execution_count": 32,
   "id": "e586b241",
   "metadata": {},
   "outputs": [
    {
     "data": {
      "text/html": [
       "<div>\n",
       "<style scoped>\n",
       "    .dataframe tbody tr th:only-of-type {\n",
       "        vertical-align: middle;\n",
       "    }\n",
       "\n",
       "    .dataframe tbody tr th {\n",
       "        vertical-align: top;\n",
       "    }\n",
       "\n",
       "    .dataframe thead th {\n",
       "        text-align: right;\n",
       "    }\n",
       "</style>\n",
       "<table border=\"1\" class=\"dataframe\">\n",
       "  <thead>\n",
       "    <tr style=\"text-align: right;\">\n",
       "      <th></th>\n",
       "      <th>subj_idx</th>\n",
       "      <th>block_name</th>\n",
       "      <th>trial_location</th>\n",
       "      <th>trial_similarity</th>\n",
       "      <th>trial_corr_resp</th>\n",
       "      <th>resp_corr</th>\n",
       "      <th>rt</th>\n",
       "      <th>response</th>\n",
       "      <th>mean_rt</th>\n",
       "      <th>sd_rt</th>\n",
       "      <th>exclude_thresh</th>\n",
       "      <th>exclude_trial</th>\n",
       "      <th>exclude_part</th>\n",
       "      <th>school</th>\n",
       "      <th>group</th>\n",
       "    </tr>\n",
       "    <tr>\n",
       "      <th>index</th>\n",
       "      <th></th>\n",
       "      <th></th>\n",
       "      <th></th>\n",
       "      <th></th>\n",
       "      <th></th>\n",
       "      <th></th>\n",
       "      <th></th>\n",
       "      <th></th>\n",
       "      <th></th>\n",
       "      <th></th>\n",
       "      <th></th>\n",
       "      <th></th>\n",
       "      <th></th>\n",
       "      <th></th>\n",
       "      <th></th>\n",
       "    </tr>\n",
       "  </thead>\n",
       "  <tbody>\n",
       "    <tr>\n",
       "      <th>0</th>\n",
       "      <td>1903</td>\n",
       "      <td>nb1TestingBlock</td>\n",
       "      <td>11</td>\n",
       "      <td>0</td>\n",
       "      <td>left</td>\n",
       "      <td>1</td>\n",
       "      <td>0.663306</td>\n",
       "      <td>left</td>\n",
       "      <td>0.773041</td>\n",
       "      <td>0.177657</td>\n",
       "      <td>3</td>\n",
       "      <td>0</td>\n",
       "      <td>0</td>\n",
       "      <td>UIC</td>\n",
       "      <td>rMDD</td>\n",
       "    </tr>\n",
       "    <tr>\n",
       "      <th>1</th>\n",
       "      <td>1903</td>\n",
       "      <td>nb1TestingBlock</td>\n",
       "      <td>7</td>\n",
       "      <td>4</td>\n",
       "      <td>right</td>\n",
       "      <td>1</td>\n",
       "      <td>0.606543</td>\n",
       "      <td>right</td>\n",
       "      <td>0.773041</td>\n",
       "      <td>0.177657</td>\n",
       "      <td>3</td>\n",
       "      <td>0</td>\n",
       "      <td>0</td>\n",
       "      <td>UIC</td>\n",
       "      <td>rMDD</td>\n",
       "    </tr>\n",
       "    <tr>\n",
       "      <th>2</th>\n",
       "      <td>1903</td>\n",
       "      <td>nb1TestingBlock</td>\n",
       "      <td>8</td>\n",
       "      <td>1</td>\n",
       "      <td>right</td>\n",
       "      <td>1</td>\n",
       "      <td>1.037526</td>\n",
       "      <td>right</td>\n",
       "      <td>0.773041</td>\n",
       "      <td>0.177657</td>\n",
       "      <td>3</td>\n",
       "      <td>0</td>\n",
       "      <td>0</td>\n",
       "      <td>UIC</td>\n",
       "      <td>rMDD</td>\n",
       "    </tr>\n",
       "    <tr>\n",
       "      <th>3</th>\n",
       "      <td>1903</td>\n",
       "      <td>nb1TestingBlock</td>\n",
       "      <td>12</td>\n",
       "      <td>4</td>\n",
       "      <td>right</td>\n",
       "      <td>1</td>\n",
       "      <td>0.682756</td>\n",
       "      <td>right</td>\n",
       "      <td>0.773041</td>\n",
       "      <td>0.177657</td>\n",
       "      <td>3</td>\n",
       "      <td>0</td>\n",
       "      <td>0</td>\n",
       "      <td>UIC</td>\n",
       "      <td>rMDD</td>\n",
       "    </tr>\n",
       "    <tr>\n",
       "      <th>4</th>\n",
       "      <td>1903</td>\n",
       "      <td>nb1TestingBlock</td>\n",
       "      <td>12</td>\n",
       "      <td>0</td>\n",
       "      <td>left</td>\n",
       "      <td>1</td>\n",
       "      <td>0.682443</td>\n",
       "      <td>left</td>\n",
       "      <td>0.773041</td>\n",
       "      <td>0.177657</td>\n",
       "      <td>3</td>\n",
       "      <td>0</td>\n",
       "      <td>0</td>\n",
       "      <td>UIC</td>\n",
       "      <td>rMDD</td>\n",
       "    </tr>\n",
       "  </tbody>\n",
       "</table>\n",
       "</div>"
      ],
      "text/plain": [
       "       subj_idx       block_name  trial_location  trial_similarity   \n",
       "index                                                                \n",
       "0          1903  nb1TestingBlock              11                 0  \\\n",
       "1          1903  nb1TestingBlock               7                 4   \n",
       "2          1903  nb1TestingBlock               8                 1   \n",
       "3          1903  nb1TestingBlock              12                 4   \n",
       "4          1903  nb1TestingBlock              12                 0   \n",
       "\n",
       "      trial_corr_resp  resp_corr        rt response   mean_rt     sd_rt   \n",
       "index                                                                     \n",
       "0                left          1  0.663306     left  0.773041  0.177657  \\\n",
       "1               right          1  0.606543    right  0.773041  0.177657   \n",
       "2               right          1  1.037526    right  0.773041  0.177657   \n",
       "3               right          1  0.682756    right  0.773041  0.177657   \n",
       "4                left          1  0.682443     left  0.773041  0.177657   \n",
       "\n",
       "       exclude_thresh  exclude_trial  exclude_part school group  \n",
       "index                                                            \n",
       "0                   3              0             0    UIC  rMDD  \n",
       "1                   3              0             0    UIC  rMDD  \n",
       "2                   3              0             0    UIC  rMDD  \n",
       "3                   3              0             0    UIC  rMDD  \n",
       "4                   3              0             0    UIC  rMDD  "
      ]
     },
     "execution_count": 32,
     "metadata": {},
     "output_type": "execute_result"
    }
   ],
   "source": [
    "data_clean.head()"
   ]
  },
  {
   "cell_type": "markdown",
   "id": "4c612273",
   "metadata": {},
   "source": [
    "# Variable Coding"
   ]
  },
  {
   "cell_type": "code",
   "execution_count": 33,
   "id": "9bcceb5e",
   "metadata": {},
   "outputs": [],
   "source": [
    "# flip RTs of incorrect trials in the negative direction\n",
    "data_clean.loc[data_clean.resp_corr == 0, 'rt'] = data_clean.loc[data_clean.resp_corr == 0, 'rt']*(-1)"
   ]
  },
  {
   "cell_type": "code",
   "execution_count": 34,
   "id": "f28e4ae5",
   "metadata": {},
   "outputs": [
    {
     "data": {
      "text/plain": [
       "index\n",
       "0       nb1TestingBlock\n",
       "1       nb1TestingBlock\n",
       "2       nb1TestingBlock\n",
       "3       nb1TestingBlock\n",
       "4       nb1TestingBlock\n",
       "             ...       \n",
       "1675    nb2TestingBlock\n",
       "1676    nb2TestingBlock\n",
       "1677    nb2TestingBlock\n",
       "1678    nb2TestingBlock\n",
       "1679    nb2TestingBlock\n",
       "Name: block_name, Length: 15398, dtype: object"
      ]
     },
     "execution_count": 34,
     "metadata": {},
     "output_type": "execute_result"
    }
   ],
   "source": [
    "data_clean.block_name"
   ]
  },
  {
   "cell_type": "code",
   "execution_count": null,
   "id": "cd243227",
   "metadata": {},
   "outputs": [],
   "source": []
  }
 ],
 "metadata": {
  "kernelspec": {
   "display_name": "Python 3 (ipykernel)",
   "language": "python",
   "name": "python3"
  },
  "language_info": {
   "codemirror_mode": {
    "name": "ipython",
    "version": 3
   },
   "file_extension": ".py",
   "mimetype": "text/x-python",
   "name": "python",
   "nbconvert_exporter": "python",
   "pygments_lexer": "ipython3",
   "version": "3.9.13"
  }
 },
 "nbformat": 4,
 "nbformat_minor": 5
}
